{
  "nbformat": 4,
  "nbformat_minor": 0,
  "metadata": {
    "colab": {
      "name": "demo_sms_spam.ipynb",
      "provenance": [],
      "collapsed_sections": [],
      "include_colab_link": true
    },
    "kernelspec": {
      "name": "python3",
      "display_name": "Python 3"
    },
    "accelerator": "GPU"
  },
  "cells": [
    {
      "cell_type": "markdown",
      "metadata": {
        "id": "view-in-github",
        "colab_type": "text"
      },
      "source": [
        "<a href=\"https://colab.research.google.com/github/m3noob/Machine-Learning/blob/master/demo_sms_spam.ipynb\" target=\"_parent\"><img src=\"https://colab.research.google.com/assets/colab-badge.svg\" alt=\"Open In Colab\"/></a>"
      ]
    },
    {
      "cell_type": "markdown",
      "metadata": {
        "id": "VFbscEAOPxuL"
      },
      "source": [
        "# Demo SMS Spam Detection"
      ]
    },
    {
      "cell_type": "markdown",
      "metadata": {
        "id": "xdAQGKTIP7fZ"
      },
      "source": [
        "## Preparing resources"
      ]
    },
    {
      "cell_type": "code",
      "metadata": {
        "id": "UierSydYDhRQ"
      },
      "source": [
        "!git clone https://github.com/huggingface/transformers\n",
        "!pip install ./transformers/"
      ],
      "execution_count": null,
      "outputs": []
    },
    {
      "cell_type": "markdown",
      "metadata": {
        "id": "Ywm6hqTGxc-A"
      },
      "source": [
        "### Download SMS Spam Bahasa Indonesia Dataset\n",
        "\n",
        "Provided by Yudi Wibisono\n",
        "\n",
        "[Other dataset can be access here](https://github.com/kmkurn/id-nlp-resource)"
      ]
    },
    {
      "cell_type": "code",
      "metadata": {
        "id": "GRZIOgLNoBoM"
      },
      "source": [
        "!gdown --id 1-stKadfTgJLtYsHWqXhGO3nTjKVFxm_Q\n",
        "!unzip -o /content/dataset_sms_spam_bhs_indonesia_v1.zip"
      ],
      "execution_count": null,
      "outputs": []
    },
    {
      "cell_type": "markdown",
      "metadata": {
        "id": "2b9jIAV2yA6C"
      },
      "source": [
        "### Exploring dataset"
      ]
    },
    {
      "cell_type": "code",
      "metadata": {
        "id": "syZKLVwroMua"
      },
      "source": [
        "import pandas as pd\n",
        "import numpy as np\n",
        "\n",
        "dataset = pd.read_csv(\"dataset_sms_spam_v1.csv\")\n",
        "display_dataset = dataset.copy()"
      ],
      "execution_count": null,
      "outputs": []
    },
    {
      "cell_type": "code",
      "metadata": {
        "id": "JImY3qbpoug6",
        "outputId": "b820ff79-3c39-49a5-ba13-e463f217a762",
        "colab": {
          "base_uri": "https://localhost:8080/",
          "height": 359
        }
      },
      "source": [
        "display_dataset.head(10)"
      ],
      "execution_count": null,
      "outputs": [
        {
          "output_type": "execute_result",
          "data": {
            "text/html": [
              "<div>\n",
              "<style scoped>\n",
              "    .dataframe tbody tr th:only-of-type {\n",
              "        vertical-align: middle;\n",
              "    }\n",
              "\n",
              "    .dataframe tbody tr th {\n",
              "        vertical-align: top;\n",
              "    }\n",
              "\n",
              "    .dataframe thead th {\n",
              "        text-align: right;\n",
              "    }\n",
              "</style>\n",
              "<table border=\"1\" class=\"dataframe\">\n",
              "  <thead>\n",
              "    <tr style=\"text-align: right;\">\n",
              "      <th></th>\n",
              "      <th>Teks</th>\n",
              "      <th>label</th>\n",
              "    </tr>\n",
              "  </thead>\n",
              "  <tbody>\n",
              "    <tr>\n",
              "      <th>0</th>\n",
              "      <td>[PROMO] Beli paket Flash mulai 1GB di MY TELKO...</td>\n",
              "      <td>2</td>\n",
              "    </tr>\n",
              "    <tr>\n",
              "      <th>1</th>\n",
              "      <td>2.5 GB/30 hari hanya Rp 35 Ribu Spesial buat A...</td>\n",
              "      <td>2</td>\n",
              "    </tr>\n",
              "    <tr>\n",
              "      <th>2</th>\n",
              "      <td>2016-07-08 11:47:11.Plg Yth, sisa kuota Flash ...</td>\n",
              "      <td>2</td>\n",
              "    </tr>\n",
              "    <tr>\n",
              "      <th>3</th>\n",
              "      <td>2016-08-07 11:29:47.Plg Yth, sisa kuota Flash ...</td>\n",
              "      <td>2</td>\n",
              "    </tr>\n",
              "    <tr>\n",
              "      <th>4</th>\n",
              "      <td>4.5GB/30 hari hanya Rp 55 Ribu Spesial buat an...</td>\n",
              "      <td>2</td>\n",
              "    </tr>\n",
              "    <tr>\n",
              "      <th>5</th>\n",
              "      <td>5 HARI LAGI ! EKSTRA Pulsa 50rb dg beli paket ...</td>\n",
              "      <td>2</td>\n",
              "    </tr>\n",
              "    <tr>\n",
              "      <th>6</th>\n",
              "      <td>Ada iRing dgn tarif Rp. 0,1/7hr (perpanjangan ...</td>\n",
              "      <td>2</td>\n",
              "    </tr>\n",
              "    <tr>\n",
              "      <th>7</th>\n",
              "      <td>Akhir bulan harus tetap eksis loh! Internetan ...</td>\n",
              "      <td>2</td>\n",
              "    </tr>\n",
              "    <tr>\n",
              "      <th>8</th>\n",
              "      <td>Aktifkan iRing Coboy Jr - Terhebat. Tekan *808...</td>\n",
              "      <td>2</td>\n",
              "    </tr>\n",
              "    <tr>\n",
              "      <th>9</th>\n",
              "      <td>Ambil bonus harianmu di *600# (Bebas Pulsa). D...</td>\n",
              "      <td>2</td>\n",
              "    </tr>\n",
              "  </tbody>\n",
              "</table>\n",
              "</div>"
            ],
            "text/plain": [
              "                                                Teks  label\n",
              "0  [PROMO] Beli paket Flash mulai 1GB di MY TELKO...      2\n",
              "1  2.5 GB/30 hari hanya Rp 35 Ribu Spesial buat A...      2\n",
              "2  2016-07-08 11:47:11.Plg Yth, sisa kuota Flash ...      2\n",
              "3  2016-08-07 11:29:47.Plg Yth, sisa kuota Flash ...      2\n",
              "4  4.5GB/30 hari hanya Rp 55 Ribu Spesial buat an...      2\n",
              "5  5 HARI LAGI ! EKSTRA Pulsa 50rb dg beli paket ...      2\n",
              "6  Ada iRing dgn tarif Rp. 0,1/7hr (perpanjangan ...      2\n",
              "7  Akhir bulan harus tetap eksis loh! Internetan ...      2\n",
              "8  Aktifkan iRing Coboy Jr - Terhebat. Tekan *808...      2\n",
              "9  Ambil bonus harianmu di *600# (Bebas Pulsa). D...      2"
            ]
          },
          "metadata": {
            "tags": []
          },
          "execution_count": 4
        }
      ]
    },
    {
      "cell_type": "code",
      "metadata": {
        "id": "u_kV_YOwpeL1"
      },
      "source": [
        "display_dataset.loc[display_dataset.label == 0, 'label'] = 'NORMAL'\n",
        "display_dataset.loc[display_dataset.label == 1, 'label'] = 'FRAUD'\n",
        "display_dataset.loc[display_dataset.label == 2, 'label'] = 'PROMO'"
      ],
      "execution_count": null,
      "outputs": []
    },
    {
      "cell_type": "code",
      "metadata": {
        "id": "AiiJRBJbp0KB",
        "outputId": "546a3cda-aad1-4e42-917e-00a338389e5f",
        "colab": {
          "base_uri": "https://localhost:8080/",
          "height": 419
        }
      },
      "source": [
        "display_dataset.head(100)"
      ],
      "execution_count": null,
      "outputs": [
        {
          "output_type": "execute_result",
          "data": {
            "text/html": [
              "<div>\n",
              "<style scoped>\n",
              "    .dataframe tbody tr th:only-of-type {\n",
              "        vertical-align: middle;\n",
              "    }\n",
              "\n",
              "    .dataframe tbody tr th {\n",
              "        vertical-align: top;\n",
              "    }\n",
              "\n",
              "    .dataframe thead th {\n",
              "        text-align: right;\n",
              "    }\n",
              "</style>\n",
              "<table border=\"1\" class=\"dataframe\">\n",
              "  <thead>\n",
              "    <tr style=\"text-align: right;\">\n",
              "      <th></th>\n",
              "      <th>Teks</th>\n",
              "      <th>label</th>\n",
              "    </tr>\n",
              "  </thead>\n",
              "  <tbody>\n",
              "    <tr>\n",
              "      <th>0</th>\n",
              "      <td>[PROMO] Beli paket Flash mulai 1GB di MY TELKO...</td>\n",
              "      <td>PROMO</td>\n",
              "    </tr>\n",
              "    <tr>\n",
              "      <th>1</th>\n",
              "      <td>2.5 GB/30 hari hanya Rp 35 Ribu Spesial buat A...</td>\n",
              "      <td>PROMO</td>\n",
              "    </tr>\n",
              "    <tr>\n",
              "      <th>2</th>\n",
              "      <td>2016-07-08 11:47:11.Plg Yth, sisa kuota Flash ...</td>\n",
              "      <td>PROMO</td>\n",
              "    </tr>\n",
              "    <tr>\n",
              "      <th>3</th>\n",
              "      <td>2016-08-07 11:29:47.Plg Yth, sisa kuota Flash ...</td>\n",
              "      <td>PROMO</td>\n",
              "    </tr>\n",
              "    <tr>\n",
              "      <th>4</th>\n",
              "      <td>4.5GB/30 hari hanya Rp 55 Ribu Spesial buat an...</td>\n",
              "      <td>PROMO</td>\n",
              "    </tr>\n",
              "    <tr>\n",
              "      <th>...</th>\n",
              "      <td>...</td>\n",
              "      <td>...</td>\n",
              "    </tr>\n",
              "    <tr>\n",
              "      <th>95</th>\n",
              "      <td>Isi ulang Rp50000.0 berhasil. Kode transaksi 9...</td>\n",
              "      <td>PROMO</td>\n",
              "    </tr>\n",
              "    <tr>\n",
              "      <th>96</th>\n",
              "      <td>Jalani ibadah Haji dg nyaman tnpa prlu ganti k...</td>\n",
              "      <td>PROMO</td>\n",
              "    </tr>\n",
              "    <tr>\n",
              "      <th>97</th>\n",
              "      <td>Jangan dikejar diskon berlari, beli RAWIT disk...</td>\n",
              "      <td>PROMO</td>\n",
              "    </tr>\n",
              "    <tr>\n",
              "      <th>98</th>\n",
              "      <td>JANGAN LUPA kirim 50 SMS sd 16 Juni 2013 utk m...</td>\n",
              "      <td>PROMO</td>\n",
              "    </tr>\n",
              "    <tr>\n",
              "      <th>99</th>\n",
              "      <td>Jangan sampai kalah Bro, games mu bisa terbant...</td>\n",
              "      <td>PROMO</td>\n",
              "    </tr>\n",
              "  </tbody>\n",
              "</table>\n",
              "<p>100 rows × 2 columns</p>\n",
              "</div>"
            ],
            "text/plain": [
              "                                                 Teks  label\n",
              "0   [PROMO] Beli paket Flash mulai 1GB di MY TELKO...  PROMO\n",
              "1   2.5 GB/30 hari hanya Rp 35 Ribu Spesial buat A...  PROMO\n",
              "2   2016-07-08 11:47:11.Plg Yth, sisa kuota Flash ...  PROMO\n",
              "3   2016-08-07 11:29:47.Plg Yth, sisa kuota Flash ...  PROMO\n",
              "4   4.5GB/30 hari hanya Rp 55 Ribu Spesial buat an...  PROMO\n",
              "..                                                ...    ...\n",
              "95  Isi ulang Rp50000.0 berhasil. Kode transaksi 9...  PROMO\n",
              "96  Jalani ibadah Haji dg nyaman tnpa prlu ganti k...  PROMO\n",
              "97  Jangan dikejar diskon berlari, beli RAWIT disk...  PROMO\n",
              "98  JANGAN LUPA kirim 50 SMS sd 16 Juni 2013 utk m...  PROMO\n",
              "99  Jangan sampai kalah Bro, games mu bisa terbant...  PROMO\n",
              "\n",
              "[100 rows x 2 columns]"
            ]
          },
          "metadata": {
            "tags": []
          },
          "execution_count": 6
        }
      ]
    },
    {
      "cell_type": "code",
      "metadata": {
        "id": "6dndqY-KqURP",
        "outputId": "9e6ad297-da6b-45ce-e81c-0fefd0d50300",
        "colab": {
          "base_uri": "https://localhost:8080/",
          "height": 315
        }
      },
      "source": [
        "_labels = display_dataset['label'].value_counts()\n",
        "_labels.plot.bar()"
      ],
      "execution_count": null,
      "outputs": [
        {
          "output_type": "execute_result",
          "data": {
            "text/plain": [
              "<matplotlib.axes._subplots.AxesSubplot at 0x7f47b3d16780>"
            ]
          },
          "metadata": {
            "tags": []
          },
          "execution_count": 7
        },
        {
          "output_type": "display_data",
          "data": {
            "image/png": "[encoded data removed]",
            "text/plain": [
              "<Figure size 432x288 with 1 Axes>"
            ]
          },
          "metadata": {
            "tags": [],
            "needs_background": "light"
          }
        }
      ]
    },
    {
      "cell_type": "markdown",
      "metadata": {
        "id": "z2jLmnMdyaiN"
      },
      "source": [
        "### Split dataset into train, validation, and test split"
      ]
    },
    {
      "cell_type": "code",
      "metadata": {
        "id": "MK8IeikPbQ8K"
      },
      "source": [
        "from sklearn.model_selection import train_test_split\n",
        "train_texts, val_texts, train_labels, val_labels = train_test_split(dataset.Teks.to_list(), dataset.label.to_list(), shuffle=True, test_size=.2)\n",
        "val_texts, test_texts, val_labels, test_labels = train_test_split(val_texts, val_labels, test_size=.5)"
      ],
      "execution_count": null,
      "outputs": []
    },
    {
      "cell_type": "markdown",
      "metadata": {
        "id": "2_j9nnDzyoRx"
      },
      "source": [
        "### Tokenize texts"
      ]
    },
    {
      "cell_type": "code",
      "metadata": {
        "id": "BnY4wpaKXfSE"
      },
      "source": [
        "import torch\n",
        "from torch import nn\n",
        "from transformers import XLMRobertaTokenizer\n",
        "tokenizer = XLMRobertaTokenizer.from_pretrained('xlm-roberta-base')\n",
        "train_encodings = tokenizer(train_texts, truncation=True, padding=True)\n",
        "val_encodings = tokenizer(val_texts, truncation=True, padding=True)\n",
        "test_encodings = tokenizer(test_texts, truncation=True, padding=True)"
      ],
      "execution_count": null,
      "outputs": []
    },
    {
      "cell_type": "code",
      "metadata": {
        "id": "zHusLHMkcY0y"
      },
      "source": [
        "class SpamDataset(torch.utils.data.Dataset):\n",
        "    def __init__(self, encodings, labels):\n",
        "        self.encodings = encodings\n",
        "        self.labels = labels\n",
        "\n",
        "    def __getitem__(self, idx):\n",
        "        item = {key: torch.tensor(val[idx]) for key, val in self.encodings.items()}\n",
        "        item['labels'] = torch.tensor(self.labels[idx])\n",
        "        return item\n",
        "\n",
        "    def __len__(self):\n",
        "        return len(self.labels)\n",
        "\n",
        "train_dataset = SpamDataset(train_encodings, train_labels)\n",
        "val_dataset = SpamDataset(val_encodings, val_labels)\n",
        "test_dataset = SpamDataset(test_encodings, test_labels)"
      ],
      "execution_count": null,
      "outputs": []
    },
    {
      "cell_type": "code",
      "metadata": {
        "id": "akAlFggJ5V61"
      },
      "source": [
        "from typing import Dict\n",
        "from sklearn.metrics import precision_recall_fscore_support\n",
        "from transformers import EvalPrediction\n",
        "def compute_metrics(p: EvalPrediction) -> Dict:\n",
        "    preds = np.argmax(p.predictions, axis=-1)\n",
        "    precision, recall, f1, _ = precision_recall_fscore_support(p.label_ids.flatten(), preds.flatten(), average='weighted', zero_division=0)\n",
        "    return {\n",
        "        'accuracy': (preds == p.label_ids).mean(),\n",
        "        'f1': f1,\n",
        "        'precision': precision,\n",
        "        'recall': recall\n",
        "    }"
      ],
      "execution_count": null,
      "outputs": []
    },
    {
      "cell_type": "markdown",
      "metadata": {
        "id": "WAqT-hFgytaV"
      },
      "source": [
        "## Get pretrained model and train it"
      ]
    },
    {
      "cell_type": "code",
      "metadata": {
        "id": "0J0naZEFeG1E",
        "outputId": "8635b7e2-93b7-4103-906d-3155279ac93b",
        "colab": {
          "base_uri": "https://localhost:8080/",
          "height": 1000
        }
      },
      "source": [
        "from torch.utils.data import DataLoader\n",
        "from transformers import XLMRobertaForSequenceClassification, XLMRobertaConfig, AdamW, TrainingArguments, Trainer\n",
        "\n",
        "config = XLMRobertaConfig.from_pretrained(\n",
        "    'xlm-roberta-base',\n",
        "    num_labels=3\n",
        ")\n",
        "model = XLMRobertaForSequenceClassification.from_pretrained('xlm-roberta-base', config=config)\n",
        "seed = 13\n",
        "\n",
        "training_args = TrainingArguments(\n",
        "    output_dir='./results',          # output directory\n",
        "    num_train_epochs=10,             # total number of training epochs\n",
        "    per_device_train_batch_size=16,  # batch size per device during training\n",
        "    per_device_eval_batch_size=64,   # batch size for evaluation\n",
        "    warmup_steps=500,                # number of warmup steps for learning rate scheduler\n",
        "    weight_decay=0.01,               # strength of weight decay\n",
        "    logging_dir='./logs',            # directory for storing logs\n",
        "    logging_steps=10,                # output log every #\n",
        "    seed=seed,                       # random seed\n",
        ")\n",
        "\n",
        "\n",
        "trainer = Trainer(\n",
        "    model=model,                         # the instantiated 🤗 Transformers model to be trained\n",
        "    args=training_args,                  # training arguments, defined above\n",
        "    train_dataset=train_dataset,         # training dataset\n",
        "    eval_dataset=val_dataset,             # evaluation dataset\n",
        "    compute_metrics=compute_metrics\n",
        ")\n",
        "\n",
        "trainer.train()"
      ],
      "execution_count": null,
      "outputs": [
        {
          "output_type": "stream",
          "text": [
            "Some weights of the model checkpoint at xlm-roberta-base were not used when initializing XLMRobertaForSequenceClassification: ['lm_head.bias', 'lm_head.dense.weight', 'lm_head.dense.bias', 'lm_head.layer_norm.weight', 'lm_head.layer_norm.bias', 'lm_head.decoder.weight', 'roberta.pooler.dense.weight', 'roberta.pooler.dense.bias']\n",
            "- This IS expected if you are initializing XLMRobertaForSequenceClassification from the checkpoint of a model trained on another task or with another architecture (e.g. initializing a BertForSequenceClassification model from a BertForPreTraining model).\n",
            "- This IS NOT expected if you are initializing XLMRobertaForSequenceClassification from the checkpoint of a model that you expect to be exactly identical (initializing a BertForSequenceClassification model from a BertForSequenceClassification model).\n",
            "Some weights of XLMRobertaForSequenceClassification were not initialized from the model checkpoint at xlm-roberta-base and are newly initialized: ['classifier.dense.weight', 'classifier.dense.bias', 'classifier.out_proj.weight', 'classifier.out_proj.bias']\n",
            "You should probably TRAIN this model on a down-stream task to be able to use it for predictions and inference.\n"
          ],
          "name": "stderr"
        },
        {
          "output_type": "display_data",
          "data": {
            "text/html": [
              "\n",
              "    <div>\n",
              "        <style>\n",
              "            /* Turns off some styling */\n",
              "            progress {\n",
              "                /* gets rid of default border in Firefox and Opera. */\n",
              "                border: none;\n",
              "                /* Needs to be in here for Safari polyfill so background images work as expected. */\n",
              "                background-size: auto;\n",
              "            }\n",
              "        </style>\n",
              "      \n",
              "      <progress value='580' max='580' style='width:300px; height:20px; vertical-align: middle;'></progress>\n",
              "      [580/580 05:14, Epoch 10/10]\n",
              "    </div>\n",
              "    <table border=\"1\" class=\"dataframe\">\n",
              "  <thead>\n",
              "    <tr style=\"text-align: left;\">\n",
              "      <th>Step</th>\n",
              "      <th>Training Loss</th>\n",
              "    </tr>\n",
              "  </thead>\n",
              "  <tbody>\n",
              "    <tr>\n",
              "      <td>10</td>\n",
              "      <td>1.109035</td>\n",
              "    </tr>\n",
              "    <tr>\n",
              "      <td>20</td>\n",
              "      <td>1.101979</td>\n",
              "    </tr>\n",
              "    <tr>\n",
              "      <td>30</td>\n",
              "      <td>1.081407</td>\n",
              "    </tr>\n",
              "    <tr>\n",
              "      <td>40</td>\n",
              "      <td>1.066504</td>\n",
              "    </tr>\n",
              "    <tr>\n",
              "      <td>50</td>\n",
              "      <td>0.993989</td>\n",
              "    </tr>\n",
              "    <tr>\n",
              "      <td>60</td>\n",
              "      <td>1.001661</td>\n",
              "    </tr>\n",
              "    <tr>\n",
              "      <td>70</td>\n",
              "      <td>0.954695</td>\n",
              "    </tr>\n",
              "    <tr>\n",
              "      <td>80</td>\n",
              "      <td>0.864605</td>\n",
              "    </tr>\n",
              "    <tr>\n",
              "      <td>90</td>\n",
              "      <td>0.776283</td>\n",
              "    </tr>\n",
              "    <tr>\n",
              "      <td>100</td>\n",
              "      <td>0.633852</td>\n",
              "    </tr>\n",
              "    <tr>\n",
              "      <td>110</td>\n",
              "      <td>0.491195</td>\n",
              "    </tr>\n",
              "    <tr>\n",
              "      <td>120</td>\n",
              "      <td>0.441017</td>\n",
              "    </tr>\n",
              "    <tr>\n",
              "      <td>130</td>\n",
              "      <td>0.278310</td>\n",
              "    </tr>\n",
              "    <tr>\n",
              "      <td>140</td>\n",
              "      <td>0.358513</td>\n",
              "    </tr>\n",
              "    <tr>\n",
              "      <td>150</td>\n",
              "      <td>0.215365</td>\n",
              "    </tr>\n",
              "    <tr>\n",
              "      <td>160</td>\n",
              "      <td>0.188737</td>\n",
              "    </tr>\n",
              "    <tr>\n",
              "      <td>170</td>\n",
              "      <td>0.303896</td>\n",
              "    </tr>\n",
              "    <tr>\n",
              "      <td>180</td>\n",
              "      <td>0.178450</td>\n",
              "    </tr>\n",
              "    <tr>\n",
              "      <td>190</td>\n",
              "      <td>0.187678</td>\n",
              "    </tr>\n",
              "    <tr>\n",
              "      <td>200</td>\n",
              "      <td>0.175054</td>\n",
              "    </tr>\n",
              "    <tr>\n",
              "      <td>210</td>\n",
              "      <td>0.068214</td>\n",
              "    </tr>\n",
              "    <tr>\n",
              "      <td>220</td>\n",
              "      <td>0.334354</td>\n",
              "    </tr>\n",
              "    <tr>\n",
              "      <td>230</td>\n",
              "      <td>0.332036</td>\n",
              "    </tr>\n",
              "    <tr>\n",
              "      <td>240</td>\n",
              "      <td>0.200325</td>\n",
              "    </tr>\n",
              "    <tr>\n",
              "      <td>250</td>\n",
              "      <td>0.237465</td>\n",
              "    </tr>\n",
              "    <tr>\n",
              "      <td>260</td>\n",
              "      <td>0.159628</td>\n",
              "    </tr>\n",
              "    <tr>\n",
              "      <td>270</td>\n",
              "      <td>0.195734</td>\n",
              "    </tr>\n",
              "    <tr>\n",
              "      <td>280</td>\n",
              "      <td>0.027727</td>\n",
              "    </tr>\n",
              "    <tr>\n",
              "      <td>290</td>\n",
              "      <td>0.258539</td>\n",
              "    </tr>\n",
              "    <tr>\n",
              "      <td>300</td>\n",
              "      <td>0.141429</td>\n",
              "    </tr>\n",
              "    <tr>\n",
              "      <td>310</td>\n",
              "      <td>0.163043</td>\n",
              "    </tr>\n",
              "    <tr>\n",
              "      <td>320</td>\n",
              "      <td>0.186253</td>\n",
              "    </tr>\n",
              "    <tr>\n",
              "      <td>330</td>\n",
              "      <td>0.197253</td>\n",
              "    </tr>\n",
              "    <tr>\n",
              "      <td>340</td>\n",
              "      <td>0.029543</td>\n",
              "    </tr>\n",
              "    <tr>\n",
              "      <td>350</td>\n",
              "      <td>0.130772</td>\n",
              "    </tr>\n",
              "    <tr>\n",
              "      <td>360</td>\n",
              "      <td>0.139429</td>\n",
              "    </tr>\n",
              "    <tr>\n",
              "      <td>370</td>\n",
              "      <td>0.111821</td>\n",
              "    </tr>\n",
              "    <tr>\n",
              "      <td>380</td>\n",
              "      <td>0.147739</td>\n",
              "    </tr>\n",
              "    <tr>\n",
              "      <td>390</td>\n",
              "      <td>0.199821</td>\n",
              "    </tr>\n",
              "    <tr>\n",
              "      <td>400</td>\n",
              "      <td>0.078267</td>\n",
              "    </tr>\n",
              "    <tr>\n",
              "      <td>410</td>\n",
              "      <td>0.151323</td>\n",
              "    </tr>\n",
              "    <tr>\n",
              "      <td>420</td>\n",
              "      <td>0.027094</td>\n",
              "    </tr>\n",
              "    <tr>\n",
              "      <td>430</td>\n",
              "      <td>0.075720</td>\n",
              "    </tr>\n",
              "    <tr>\n",
              "      <td>440</td>\n",
              "      <td>0.123430</td>\n",
              "    </tr>\n",
              "    <tr>\n",
              "      <td>450</td>\n",
              "      <td>0.089099</td>\n",
              "    </tr>\n",
              "    <tr>\n",
              "      <td>460</td>\n",
              "      <td>0.189948</td>\n",
              "    </tr>\n",
              "    <tr>\n",
              "      <td>470</td>\n",
              "      <td>0.406308</td>\n",
              "    </tr>\n",
              "    <tr>\n",
              "      <td>480</td>\n",
              "      <td>0.003720</td>\n",
              "    </tr>\n",
              "    <tr>\n",
              "      <td>490</td>\n",
              "      <td>0.011105</td>\n",
              "    </tr>\n",
              "    <tr>\n",
              "      <td>500</td>\n",
              "      <td>0.111436</td>\n",
              "    </tr>\n",
              "    <tr>\n",
              "      <td>510</td>\n",
              "      <td>0.107948</td>\n",
              "    </tr>\n",
              "    <tr>\n",
              "      <td>520</td>\n",
              "      <td>0.160988</td>\n",
              "    </tr>\n",
              "    <tr>\n",
              "      <td>530</td>\n",
              "      <td>0.096323</td>\n",
              "    </tr>\n",
              "    <tr>\n",
              "      <td>540</td>\n",
              "      <td>0.102887</td>\n",
              "    </tr>\n",
              "    <tr>\n",
              "      <td>550</td>\n",
              "      <td>0.040668</td>\n",
              "    </tr>\n",
              "    <tr>\n",
              "      <td>560</td>\n",
              "      <td>0.063176</td>\n",
              "    </tr>\n",
              "    <tr>\n",
              "      <td>570</td>\n",
              "      <td>0.052672</td>\n",
              "    </tr>\n",
              "    <tr>\n",
              "      <td>580</td>\n",
              "      <td>0.007899</td>\n",
              "    </tr>\n",
              "  </tbody>\n",
              "</table><p>"
            ],
            "text/plain": [
              "<IPython.core.display.HTML object>"
            ]
          },
          "metadata": {
            "tags": []
          }
        },
        {
          "output_type": "execute_result",
          "data": {
            "text/plain": [
              "TrainOutput(global_step=580, training_loss=0.30281656199488144)"
            ]
          },
          "metadata": {
            "tags": []
          },
          "execution_count": 12
        }
      ]
    },
    {
      "cell_type": "markdown",
      "metadata": {
        "id": "CW36SxK-y3g9"
      },
      "source": [
        "## Evaluations"
      ]
    },
    {
      "cell_type": "code",
      "metadata": {
        "id": "O9HUNRAgj5TQ",
        "outputId": "ee8a0704-d9e2-44f0-9a15-5cda3977ff9b",
        "colab": {
          "base_uri": "https://localhost:8080/",
          "height": 139
        }
      },
      "source": [
        "# Evaluations\n",
        "results = {}\n",
        "result = trainer.evaluate()\n",
        "for key, value in result.items():\n",
        "  print(\"{} = {}\".format(key, value))"
      ],
      "execution_count": null,
      "outputs": [
        {
          "output_type": "display_data",
          "data": {
            "text/html": [
              "\n",
              "    <div>\n",
              "        <style>\n",
              "            /* Turns off some styling */\n",
              "            progress {\n",
              "                /* gets rid of default border in Firefox and Opera. */\n",
              "                border: none;\n",
              "                /* Needs to be in here for Safari polyfill so background images work as expected. */\n",
              "                background-size: auto;\n",
              "            }\n",
              "        </style>\n",
              "      \n",
              "      <progress value='2' max='2' style='width:300px; height:20px; vertical-align: middle;'></progress>\n",
              "      [2/2 00:00]\n",
              "    </div>\n",
              "    "
            ],
            "text/plain": [
              "<IPython.core.display.HTML object>"
            ]
          },
          "metadata": {
            "tags": []
          }
        },
        {
          "output_type": "stream",
          "text": [
            "eval_loss = 0.2219352275133133\n",
            "eval_accuracy = 0.956140350877193\n",
            "eval_f1 = 0.9564410821376765\n",
            "eval_precision = 0.9587210780574624\n",
            "eval_recall = 0.956140350877193\n",
            "epoch = 10.0\n"
          ],
          "name": "stdout"
        }
      ]
    },
    {
      "cell_type": "markdown",
      "metadata": {
        "id": "r3SYh3Svy8IO"
      },
      "source": [
        "## Test the model"
      ]
    },
    {
      "cell_type": "code",
      "metadata": {
        "id": "ThnJKqA9RRr9"
      },
      "source": [
        "labels = ['NORMAL', 'FRAUD', 'PROMO']\n",
        "is_spam = [\n",
        "           'Kepoin suster Anya Geraldine di original series terbaru World of Dr. Boyke dg kode voucher BIMA dr Vidio utk km pelanggan Tri. Dptkan akses Vidio Premier Platinum 30 Hari dr 49rb, skrg hny 20rb! Cek di http://bimaplus.tri.co.id/Vidio',\n",
        "           'PAKET SPESIAL YG LANGKA! Kuota 3GB 3hr Cuma Rp10rb. Balas HO untuk aktifkan. Nikmati kuota 1.5GB+1.5GB(01-09). AS203',\n",
        "           'SHOPEE Slmt. NO.+6287878xxx Anda Resmi Men-daptkan Hadiah Ke-2 Cek Tunai Rp.175jt Kode ID Pemenang ;(AD25MD47) U/Info Hadiah Klik. www.super-shoppingday-99.com',\n",
        "           'Selamat! SIM CARD Anda terpilih menjadi pemenang dari pesta ISI ULANG MOBOINDOSAT. Pin JK25FGR untuk info silakan kunjungi: www.juaramobo.cf',\n",
        "           'Jaga jarak, hindari kerumunan. Aspirasi adalah hak, namunn tak lupa protokol kesehatan. #LindungiDiri #LindungiKeluarga covid19.go.id',\n",
        "           'Apakah ini spam?',\n",
        "           'Hanya kk&ktp sudah bisa buat modal usaha dengan bunga 0,2% Min 5-500jt Melayani Seluruh Indonesia Minat WA:081996947567',\n",
        "           'fitria ,Minggu kmarin ketemu kaamu dijalan, kaamu sdh tidak kenal aku, coba lIhat fotoku chat-v.com/s/9dtu8y',\n",
        "           'Sebagai nasabah Yth rek anda diNyatakan resmi mendpt hadiah dari berkah BRIpoin & Kode Cek Anda 02591234 Utk INFO klik:http://berkahpoinbri.blogspot.com'\n",
        "]\n",
        "encoded = tokenizer(is_spam,truncation=True, padding=True, return_tensors=\"pt\")\n",
        "encoded.to('cuda')\n",
        "output = model(encoded['input_ids'], attention_mask=encoded['attention_mask'])\n",
        "output_cpu = output[0].cpu()\n",
        "output_indices = output_cpu.max(1).indices.tolist()"
      ],
      "execution_count": null,
      "outputs": []
    },
    {
      "cell_type": "code",
      "metadata": {
        "id": "KhvBjGOJaRf5",
        "outputId": "d958cb77-7ec4-4e0d-9358-eed29249d685",
        "colab": {
          "base_uri": "https://localhost:8080/"
        }
      },
      "source": [
        "for index in range(len(is_spam)):\n",
        "  print(is_spam[index])\n",
        "  print('Result = {}'.format(labels[output_indices[index]]))\n",
        "  print('-'*20)\n"
      ],
      "execution_count": null,
      "outputs": [
        {
          "output_type": "stream",
          "text": [
            "Kepoin suster Anya Geraldine di original series terbaru World of Dr. Boyke dg kode voucher BIMA dr Vidio utk km pelanggan Tri. Dptkan akses Vidio Premier Platinum 30 Hari dr 49rb, skrg hny 20rb! Cek di http://bimaplus.tri.co.id/Vidio\n",
            "Result = PROMO\n",
            "--------------------\n",
            "PAKET SPESIAL YG LANGKA! Kuota 3GB 3hr Cuma Rp10rb. Balas HO untuk aktifkan. Nikmati kuota 1.5GB+1.5GB(01-09). AS203\n",
            "Result = PROMO\n",
            "--------------------\n",
            "SHOPEE Slmt. NO.+6287878xxx Anda Resmi Men-daptkan Hadiah Ke-2 Cek Tunai Rp.175jt Kode ID Pemenang ;(AD25MD47) U/Info Hadiah Klik. www.super-shoppingday-99.com\n",
            "Result = FRAUD\n",
            "--------------------\n",
            "Selamat! SIM CARD Anda terpilih menjadi pemenang dari pesta ISI ULANG MOBOINDOSAT. Pin JK25FGR untuk info silakan kunjungi: www.juaramobo.cf\n",
            "Result = FRAUD\n",
            "--------------------\n",
            "Jaga jarak, hindari kerumunan. Aspirasi adalah hak, namunn tak lupa protokol kesehatan. #LindungiDiri #LindungiKeluarga covid19.go.id\n",
            "Result = NORMAL\n",
            "--------------------\n",
            "Apakah ini spam?\n",
            "Result = NORMAL\n",
            "--------------------\n",
            "Hanya kk&ktp sudah bisa buat modal usaha dengan bunga 0,2% Min 5-500jt Melayani Seluruh Indonesia Minat WA:081996947567\n",
            "Result = FRAUD\n",
            "--------------------\n",
            "fitria ,Minggu kmarin ketemu kaamu dijalan, kaamu sdh tidak kenal aku, coba lIhat fotoku chat-v.com/s/9dtu8y\n",
            "Result = NORMAL\n",
            "--------------------\n",
            "Sebagai nasabah Yth rek anda diNyatakan resmi mendpt hadiah dari berkah BRIpoin & Kode Cek Anda 02591234 Utk INFO klik:http://berkahpoinbri.blogspot.com\n",
            "Result = FRAUD\n",
            "--------------------\n"
          ],
          "name": "stdout"
        }
      ]
    },
    {
      "cell_type": "code",
      "metadata": {
        "id": "XdT_uAKZX4is",
        "outputId": "f407a1f9-101c-48a1-d1e1-2e19100073c7",
        "colab": {
          "base_uri": "https://localhost:8080/"
        }
      },
      "source": [
        "tokenizer.tokenize(is_spam[5])"
      ],
      "execution_count": null,
      "outputs": [
        {
          "output_type": "execute_result",
          "data": {
            "text/plain": [
              "['▁Apakah', '▁ini', '▁spam', '?']"
            ]
          },
          "metadata": {
            "tags": []
          },
          "execution_count": 16
        }
      ]
    }
  ]
}